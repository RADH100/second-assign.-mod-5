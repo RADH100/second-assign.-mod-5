{
 "cells": [
  {
   "cell_type": "code",
   "execution_count": 1,
   "id": "6190425e-0122-4df6-b6f8-b11cdf141020",
   "metadata": {},
   "outputs": [],
   "source": [
    "#Q1.  Discuss string slicing and provide examples?\n",
    "\n",
    "\n",
    "#Ans.  String slicing is a way to find the specific elements.\n",
    "#       it allows the format string like (start :end) ,where start is the index where slicing begins (inclusive) and end is the index where it ends (exclusive).\n",
    "\n",
    "\n",
    "# examples : given below\n"
   ]
  },
  {
   "cell_type": "code",
   "execution_count": 2,
   "id": "b9c4f57d-576c-451c-abba-abcaa817163d",
   "metadata": {},
   "outputs": [],
   "source": [
    "a = \" I am a girl\""
   ]
  },
  {
   "cell_type": "code",
   "execution_count": 3,
   "id": "2a3ddaa7-7cca-4738-ba83-86bdf9ad3c4a",
   "metadata": {},
   "outputs": [
    {
     "data": {
      "text/plain": [
       "' I am a girl'"
      ]
     },
     "execution_count": 3,
     "metadata": {},
     "output_type": "execute_result"
    }
   ],
   "source": [
    "a [0:]"
   ]
  },
  {
   "cell_type": "code",
   "execution_count": 5,
   "id": "f1804491-490f-42cd-87ee-f1f8a5201ede",
   "metadata": {},
   "outputs": [
    {
     "data": {
      "text/plain": [
       "' I am a'"
      ]
     },
     "execution_count": 5,
     "metadata": {},
     "output_type": "execute_result"
    }
   ],
   "source": [
    "a [ 0:7]"
   ]
  },
  {
   "cell_type": "code",
   "execution_count": 6,
   "id": "b1be4458-a148-446b-aa57-801e7641e828",
   "metadata": {},
   "outputs": [],
   "source": [
    "#syntax of slicing (start , end , step)"
   ]
  },
  {
   "cell_type": "code",
   "execution_count": 7,
   "id": "640181b1-b4fb-4096-a726-818663fcab79",
   "metadata": {},
   "outputs": [],
   "source": [
    "#Q2. EXplain the key features of lists in Python.\n",
    "\n",
    "\n",
    "#Ans. Lists are ordered collection of items.\n",
    "#     lists can store any data type.\n",
    "#     lists are mutable.\n",
    "#     it can store hetrogenius data.\n",
    "#     lists can be nested.\n",
    "#     lists elements can be accessed by index.\n",
    "\n"
   ]
  },
  {
   "cell_type": "code",
   "execution_count": 1,
   "id": "7bcaa173-0f13-4f70-b720-b4b28210e423",
   "metadata": {},
   "outputs": [],
   "source": [
    "#Q3. Describe how to access, modify, and delete elements in a list with examples?\n",
    "\n",
    "\n",
    "#Ans. We can access the elements in list by slicing and indexing.\n",
    "#example"
   ]
  },
  {
   "cell_type": "code",
   "execution_count": 3,
   "id": "323ed8c0-907d-4aa2-ac9d-e5bbd84999c4",
   "metadata": {},
   "outputs": [],
   "source": [
    "lis = [ \"potato\", \"tomato\", 1, 1.2, \"pen\"]"
   ]
  },
  {
   "cell_type": "code",
   "execution_count": 4,
   "id": "18f8c7ca-f918-4b4f-b824-d6d8ef15e2a7",
   "metadata": {},
   "outputs": [
    {
     "data": {
      "text/plain": [
       "['potato', 'tomato', 1, 1.2, 'pen']"
      ]
     },
     "execution_count": 4,
     "metadata": {},
     "output_type": "execute_result"
    }
   ],
   "source": [
    "lis[0:] # this is slicing of list "
   ]
  },
  {
   "cell_type": "code",
   "execution_count": 5,
   "id": "c646081f-a8cd-4fe6-980b-6bd74e7d43cf",
   "metadata": {},
   "outputs": [
    {
     "data": {
      "text/plain": [
       "'potato'"
      ]
     },
     "execution_count": 5,
     "metadata": {},
     "output_type": "execute_result"
    }
   ],
   "source": [
    "lis [0] # this is indexing of list."
   ]
  },
  {
   "cell_type": "code",
   "execution_count": 6,
   "id": "042cf4b7-eea2-4317-9853-7990b9b078d2",
   "metadata": {},
   "outputs": [],
   "source": [
    "#we can modify it by this\n",
    "lis [0] = \"brinjal\""
   ]
  },
  {
   "cell_type": "code",
   "execution_count": 7,
   "id": "6c6415c8-4c11-434c-8bdf-c052f3fe8e42",
   "metadata": {},
   "outputs": [
    {
     "data": {
      "text/plain": [
       "['brinjal', 'tomato', 1, 1.2, 'pen']"
      ]
     },
     "execution_count": 7,
     "metadata": {},
     "output_type": "execute_result"
    }
   ],
   "source": [
    "lis"
   ]
  },
  {
   "cell_type": "code",
   "execution_count": 8,
   "id": "bace9a41-0521-48de-be04-e1c6a4d1acde",
   "metadata": {},
   "outputs": [],
   "source": [
    "# we can delete the elements by this\n",
    "lis.remove (\"pen\")"
   ]
  },
  {
   "cell_type": "code",
   "execution_count": 9,
   "id": "385e3f92-61c1-46cf-9d00-1cbaa0aa70fd",
   "metadata": {},
   "outputs": [
    {
     "data": {
      "text/plain": [
       "['brinjal', 'tomato', 1, 1.2]"
      ]
     },
     "execution_count": 9,
     "metadata": {},
     "output_type": "execute_result"
    }
   ],
   "source": [
    "lis"
   ]
  },
  {
   "cell_type": "code",
   "execution_count": 10,
   "id": "123d232e-dad3-403d-ad03-8fd5fe337928",
   "metadata": {},
   "outputs": [],
   "source": [
    "# Q4. Compare and contrast tuples and lists with examples.\n",
    "\n",
    "\n",
    "# Ans.  Tuple is immutable but list is mutable.\n",
    "#       it means we can not do any changes in tuple after created but in list we can modify the elements .\n",
    "#       examples are given below:"
   ]
  },
  {
   "cell_type": "code",
   "execution_count": 10,
   "id": "705a4e9c-8192-40e1-b803-21a671ab75cd",
   "metadata": {},
   "outputs": [],
   "source": [
    "#it is list\n",
    "lis = [ \"potato\", \"tomato\", 1, 1.2, \"pen\"]"
   ]
  },
  {
   "cell_type": "code",
   "execution_count": 12,
   "id": "c0145ef9-1f28-4086-b0ae-105cecd44240",
   "metadata": {},
   "outputs": [],
   "source": [
    "# we can modify it\n",
    "lis [1] = \"brinjal\""
   ]
  },
  {
   "cell_type": "code",
   "execution_count": 13,
   "id": "97a919d7-5c70-4f09-a9a1-5aa927795f5a",
   "metadata": {},
   "outputs": [
    {
     "data": {
      "text/plain": [
       "['potato', 'brinjal', 1, 1.2, 'pen']"
      ]
     },
     "execution_count": 13,
     "metadata": {},
     "output_type": "execute_result"
    }
   ],
   "source": [
    "lis"
   ]
  },
  {
   "cell_type": "code",
   "execution_count": 14,
   "id": "f11665a1-fa3a-4a58-b7fe-d571afff98dc",
   "metadata": {},
   "outputs": [],
   "source": [
    "# we can not do changes in tuple\n",
    "tup = (1,2,3,4)\n"
   ]
  },
  {
   "cell_type": "code",
   "execution_count": 15,
   "id": "38b182d0-2dce-4992-b923-edc5ef3b98fe",
   "metadata": {},
   "outputs": [
    {
     "data": {
      "text/plain": [
       "1"
      ]
     },
     "execution_count": 15,
     "metadata": {},
     "output_type": "execute_result"
    }
   ],
   "source": [
    "tup [0]"
   ]
  },
  {
   "cell_type": "code",
   "execution_count": 16,
   "id": "6a7a0c9c-c466-482c-9de8-0f7c04bc78f7",
   "metadata": {},
   "outputs": [
    {
     "ename": "TypeError",
     "evalue": "'tuple' object does not support item assignment",
     "output_type": "error",
     "traceback": [
      "\u001b[0;31m---------------------------------------------------------------------------\u001b[0m",
      "\u001b[0;31mTypeError\u001b[0m                                 Traceback (most recent call last)",
      "Cell \u001b[0;32mIn[16], line 1\u001b[0m\n\u001b[0;32m----> 1\u001b[0m \u001b[43mtup\u001b[49m\u001b[43m \u001b[49m\u001b[43m[\u001b[49m\u001b[38;5;241;43m0\u001b[39;49m\u001b[43m]\u001b[49m \u001b[38;5;241m=\u001b[39m \u001b[38;5;241m8\u001b[39m\n",
      "\u001b[0;31mTypeError\u001b[0m: 'tuple' object does not support item assignment"
     ]
    }
   ],
   "source": [
    "tup [0] = 8"
   ]
  },
  {
   "cell_type": "code",
   "execution_count": 11,
   "id": "feae62b6-ed1b-4bcc-abe2-580032ffb854",
   "metadata": {},
   "outputs": [],
   "source": [
    "#Q5. Describe the key features of sets and provide examples of their use.\n",
    "\n",
    "\n",
    "#Ans.  Sets are unordered and unique collection of elements.\n",
    "#      it doesnot allow any duplicate elements.\n",
    "#      there is no indexing in sets because it is unodered.\n",
    "#      set is mutable."
   ]
  },
  {
   "cell_type": "code",
   "execution_count": 1,
   "id": "2f66c7b3-cacc-4f67-8129-be4f8e45688e",
   "metadata": {},
   "outputs": [],
   "source": [
    "# use case of sets.\n",
    "s = {1,2,1,5,4,8,8}"
   ]
  },
  {
   "cell_type": "code",
   "execution_count": 2,
   "id": "1cdbbd64-d490-43de-aec4-7e30857e1fe2",
   "metadata": {},
   "outputs": [
    {
     "data": {
      "text/plain": [
       "{1, 2, 4, 5, 8}"
      ]
     },
     "execution_count": 2,
     "metadata": {},
     "output_type": "execute_result"
    }
   ],
   "source": [
    "s"
   ]
  },
  {
   "cell_type": "code",
   "execution_count": 5,
   "id": "017d8aff-70d9-4859-85e2-f1c20f0d79b3",
   "metadata": {},
   "outputs": [],
   "source": [
    "lis1 = [1,2,3,\"milk\", \"potato\",\"potato\", 1,2]"
   ]
  },
  {
   "cell_type": "code",
   "execution_count": 6,
   "id": "e51ad4c9-bb21-4b7f-bb7a-de60d7ec62ad",
   "metadata": {},
   "outputs": [
    {
     "data": {
      "text/plain": [
       "[1, 2, 3, 'milk', 'potato', 'potato', 1, 2]"
      ]
     },
     "execution_count": 6,
     "metadata": {},
     "output_type": "execute_result"
    }
   ],
   "source": [
    "lis1"
   ]
  },
  {
   "cell_type": "code",
   "execution_count": 7,
   "id": "106c1037-848a-409a-b226-aa292fb30c45",
   "metadata": {},
   "outputs": [],
   "source": [
    "a = set (lis1) # list is changed in set."
   ]
  },
  {
   "cell_type": "code",
   "execution_count": 8,
   "id": "22b04e58-249b-4965-8d82-8a6c60dd5f8e",
   "metadata": {},
   "outputs": [
    {
     "data": {
      "text/plain": [
       "{1, 2, 3, 'milk', 'potato'}"
      ]
     },
     "execution_count": 8,
     "metadata": {},
     "output_type": "execute_result"
    }
   ],
   "source": [
    "a"
   ]
  },
  {
   "cell_type": "code",
   "execution_count": 10,
   "id": "cc3b33fc-e7e2-4287-b4ec-7985d4f7375e",
   "metadata": {},
   "outputs": [
    {
     "ename": "TypeError",
     "evalue": "'set' object is not subscriptable",
     "output_type": "error",
     "traceback": [
      "\u001b[0;31m---------------------------------------------------------------------------\u001b[0m",
      "\u001b[0;31mTypeError\u001b[0m                                 Traceback (most recent call last)",
      "Cell \u001b[0;32mIn[10], line 1\u001b[0m\n\u001b[0;32m----> 1\u001b[0m \u001b[43ma\u001b[49m\u001b[43m[\u001b[49m\u001b[38;5;241;43m1\u001b[39;49m\u001b[43m]\u001b[49m\n",
      "\u001b[0;31mTypeError\u001b[0m: 'set' object is not subscriptable"
     ]
    }
   ],
   "source": [
    "a[1] # it is unordered that's why can not access any elements."
   ]
  },
  {
   "cell_type": "code",
   "execution_count": 11,
   "id": "71fbc993-72a4-4191-84c5-ae6ad8b8b288",
   "metadata": {},
   "outputs": [],
   "source": [
    "a .add (50) # to add something in set."
   ]
  },
  {
   "cell_type": "code",
   "execution_count": 12,
   "id": "0d75b1e1-9815-4c5b-8d69-16c43854ba0c",
   "metadata": {},
   "outputs": [
    {
     "data": {
      "text/plain": [
       "{1, 2, 3, 50, 'milk', 'potato'}"
      ]
     },
     "execution_count": 12,
     "metadata": {},
     "output_type": "execute_result"
    }
   ],
   "source": [
    "a"
   ]
  },
  {
   "cell_type": "code",
   "execution_count": 13,
   "id": "e1adf41a-f1ab-4000-ad4f-9eb9d741106e",
   "metadata": {},
   "outputs": [],
   "source": [
    "#Q6. Discuss the use cases of tuples and sets in Python programming.\n",
    "\n",
    "#Ans. use case of tuple "
   ]
  },
  {
   "cell_type": "code",
   "execution_count": 15,
   "id": "37adef4f-7ce2-4375-9716-3d7b05fb65d7",
   "metadata": {},
   "outputs": [],
   "source": [
    "tuple1 = (1,2,3,3,\"aman\",2)"
   ]
  },
  {
   "cell_type": "code",
   "execution_count": 16,
   "id": "2b6e3362-6038-4dff-905a-63185972f259",
   "metadata": {},
   "outputs": [
    {
     "data": {
      "text/plain": [
       "(1, 2, 3, 3, 'aman', 2)"
      ]
     },
     "execution_count": 16,
     "metadata": {},
     "output_type": "execute_result"
    }
   ],
   "source": [
    "tuple1"
   ]
  },
  {
   "cell_type": "code",
   "execution_count": 18,
   "id": "ef85a627-7c13-4861-a241-4ee8c5ce74d9",
   "metadata": {},
   "outputs": [
    {
     "data": {
      "text/plain": [
       "2"
      ]
     },
     "execution_count": 18,
     "metadata": {},
     "output_type": "execute_result"
    }
   ],
   "source": [
    "tuple1. count (3)"
   ]
  },
  {
   "cell_type": "code",
   "execution_count": 19,
   "id": "0c72b530-6402-4261-88fa-f4f12f46ffcd",
   "metadata": {},
   "outputs": [
    {
     "ename": "TypeError",
     "evalue": "'tuple' object does not support item assignment",
     "output_type": "error",
     "traceback": [
      "\u001b[0;31m---------------------------------------------------------------------------\u001b[0m",
      "\u001b[0;31mTypeError\u001b[0m                                 Traceback (most recent call last)",
      "Cell \u001b[0;32mIn[19], line 1\u001b[0m\n\u001b[0;32m----> 1\u001b[0m \u001b[43mtuple1\u001b[49m\u001b[43m \u001b[49m\u001b[43m[\u001b[49m\u001b[38;5;241;43m0\u001b[39;49m\u001b[43m]\u001b[49m \u001b[38;5;241m=\u001b[39m \u001b[38;5;241m8\u001b[39m\n",
      "\u001b[0;31mTypeError\u001b[0m: 'tuple' object does not support item assignment"
     ]
    }
   ],
   "source": [
    "tuple1 [0] = 8 # tuple is immutable so it can not be changed."
   ]
  },
  {
   "cell_type": "code",
   "execution_count": 20,
   "id": "9f579e91-4a0d-4818-8a6c-99789e77f7b6",
   "metadata": {},
   "outputs": [],
   "source": [
    "#use case of set\n",
    "\n",
    "set1 = {1,2,2,3,5,6,7,5,5}"
   ]
  },
  {
   "cell_type": "code",
   "execution_count": 21,
   "id": "60fce567-e651-4077-857e-cd5924f70828",
   "metadata": {},
   "outputs": [
    {
     "data": {
      "text/plain": [
       "{1, 2, 3, 5, 6, 7}"
      ]
     },
     "execution_count": 21,
     "metadata": {},
     "output_type": "execute_result"
    }
   ],
   "source": [
    "set1 # execute only unique elements"
   ]
  },
  {
   "cell_type": "code",
   "execution_count": 24,
   "id": "7012cf5e-9f12-4065-bdd9-bb4e977b15e5",
   "metadata": {
    "tags": []
   },
   "outputs": [
    {
     "ename": "TypeError",
     "evalue": "'set' object is not subscriptable",
     "output_type": "error",
     "traceback": [
      "\u001b[0;31m---------------------------------------------------------------------------\u001b[0m",
      "\u001b[0;31mTypeError\u001b[0m                                 Traceback (most recent call last)",
      "Cell \u001b[0;32mIn[24], line 1\u001b[0m\n\u001b[0;32m----> 1\u001b[0m \u001b[43mset1\u001b[49m\u001b[43m \u001b[49m\u001b[43m[\u001b[49m\u001b[38;5;241;43m0\u001b[39;49m\u001b[43m]\u001b[49m \n",
      "\u001b[0;31mTypeError\u001b[0m: 'set' object is not subscriptable"
     ]
    }
   ],
   "source": [
    "set1 [0] # because it is unodered indexing will not work."
   ]
  },
  {
   "cell_type": "code",
   "execution_count": 25,
   "id": "4a2c27a8-7575-4a28-954b-6be69d64d048",
   "metadata": {},
   "outputs": [],
   "source": [
    "set1.add (8)"
   ]
  },
  {
   "cell_type": "code",
   "execution_count": 26,
   "id": "3b18a9c3-1e00-475f-a604-5bf9e4042672",
   "metadata": {},
   "outputs": [
    {
     "data": {
      "text/plain": [
       "{1, 2, 3, 5, 6, 7, 8}"
      ]
     },
     "execution_count": 26,
     "metadata": {},
     "output_type": "execute_result"
    }
   ],
   "source": [
    "set1"
   ]
  },
  {
   "cell_type": "code",
   "execution_count": 29,
   "id": "7a6d6b5c-7d0c-4cb2-82e0-53843b374bb9",
   "metadata": {},
   "outputs": [
    {
     "data": {
      "text/plain": [
       "1"
      ]
     },
     "execution_count": 29,
     "metadata": {},
     "output_type": "execute_result"
    }
   ],
   "source": [
    "set1.pop() # it will remove  elements randomly."
   ]
  },
  {
   "cell_type": "code",
   "execution_count": 13,
   "id": "91d389f8-ae8c-454c-90d9-1975d688071f",
   "metadata": {},
   "outputs": [],
   "source": [
    "#Q7. Describe how to add, modify, and delete items in a dictionary with examples.\n",
    "\n",
    "#Ans. Dictionary is a data structure that stores data as a key value pair."
   ]
  },
  {
   "cell_type": "code",
   "execution_count": 30,
   "id": "fb1499e0-63d1-4dae-a1f0-fae3d2c10f19",
   "metadata": {},
   "outputs": [],
   "source": [
    "#example of adding in dictionary\n",
    "dict1 = {\"name\":\"aman\", \"mob.no.\":\"1234\", \"address\":\"36-block,mandi\"}"
   ]
  },
  {
   "cell_type": "code",
   "execution_count": 31,
   "id": "c200a7c5-1b25-46fc-a4a4-26e8652370c5",
   "metadata": {
    "tags": []
   },
   "outputs": [
    {
     "data": {
      "text/plain": [
       "{'name': 'aman', 'mob.no.': '1234', 'address': '36-block,mandi'}"
      ]
     },
     "execution_count": 31,
     "metadata": {},
     "output_type": "execute_result"
    }
   ],
   "source": [
    "dict1"
   ]
  },
  {
   "cell_type": "code",
   "execution_count": 33,
   "id": "a80c8712-2633-440a-8f86-d13a2949f71b",
   "metadata": {},
   "outputs": [
    {
     "data": {
      "text/plain": [
       "'aman'"
      ]
     },
     "execution_count": 33,
     "metadata": {},
     "output_type": "execute_result"
    }
   ],
   "source": [
    "dict1[\"name\"]"
   ]
  },
  {
   "cell_type": "code",
   "execution_count": 34,
   "id": "d19e6b14-3b94-4038-b7f4-614bbf690b4b",
   "metadata": {},
   "outputs": [],
   "source": [
    "dict1 [\"email\"]=  \" @a123\" # to add something"
   ]
  },
  {
   "cell_type": "code",
   "execution_count": 35,
   "id": "9cf82d12-c4cd-49b5-ae93-e2a117fd3837",
   "metadata": {},
   "outputs": [
    {
     "data": {
      "text/plain": [
       "{'name': 'aman',\n",
       " 'mob.no.': '1234',\n",
       " 'address': '36-block,mandi',\n",
       " 'email': ' @a123'}"
      ]
     },
     "execution_count": 35,
     "metadata": {},
     "output_type": "execute_result"
    }
   ],
   "source": [
    "dict1"
   ]
  },
  {
   "cell_type": "code",
   "execution_count": 36,
   "id": "177878f6-ce53-4f0a-8e69-6cfc39b2e13a",
   "metadata": {},
   "outputs": [],
   "source": [
    "dict1 [\"name\"] = \"shivam\" # to modify elements"
   ]
  },
  {
   "cell_type": "code",
   "execution_count": 37,
   "id": "e819b4ab-51aa-40c0-9aa9-7b4cec03d57a",
   "metadata": {},
   "outputs": [
    {
     "data": {
      "text/plain": [
       "{'name': 'shivam',\n",
       " 'mob.no.': '1234',\n",
       " 'address': '36-block,mandi',\n",
       " 'email': ' @a123'}"
      ]
     },
     "execution_count": 37,
     "metadata": {},
     "output_type": "execute_result"
    }
   ],
   "source": [
    "dict1"
   ]
  },
  {
   "cell_type": "code",
   "execution_count": 38,
   "id": "2212b5fb-850b-4c1e-b078-4446d618cea8",
   "metadata": {},
   "outputs": [],
   "source": [
    "del dict1 [\"email\"] #to delete any key value pair"
   ]
  },
  {
   "cell_type": "code",
   "execution_count": 39,
   "id": "95ffc86c-74cf-4444-b7e9-2fd5e4cc1be7",
   "metadata": {},
   "outputs": [
    {
     "data": {
      "text/plain": [
       "{'name': 'shivam', 'mob.no.': '1234', 'address': '36-block,mandi'}"
      ]
     },
     "execution_count": 39,
     "metadata": {},
     "output_type": "execute_result"
    }
   ],
   "source": [
    "dict1"
   ]
  },
  {
   "cell_type": "code",
   "execution_count": 42,
   "id": "7f85b073-d9aa-4b66-8b88-dd8c7512abd7",
   "metadata": {
    "tags": []
   },
   "outputs": [
    {
     "data": {
      "text/plain": [
       "dict_keys(['name', 'mob.no.', 'address'])"
      ]
     },
     "execution_count": 42,
     "metadata": {},
     "output_type": "execute_result"
    }
   ],
   "source": [
    "dict1.keys()# access only keys"
   ]
  },
  {
   "cell_type": "code",
   "execution_count": 43,
   "id": "9f26c44e-cd2c-47a9-aa65-819646d218ee",
   "metadata": {},
   "outputs": [
    {
     "data": {
      "text/plain": [
       "dict_values(['shivam', '1234', '36-block,mandi'])"
      ]
     },
     "execution_count": 43,
     "metadata": {},
     "output_type": "execute_result"
    }
   ],
   "source": [
    "dict1.values()# access only values"
   ]
  },
  {
   "cell_type": "code",
   "execution_count": 45,
   "id": "b5631584-fdf6-477e-b72a-2d5be71c9418",
   "metadata": {},
   "outputs": [],
   "source": [
    "#Q8. Discuss the importance of dictionary keys being immutable and provide example.\n",
    "\n",
    "#Ans. The dictionary keys being immutable is important because it ensures that the dictionary can efficiently look up values based on their keys.\n",
    "#     exmaples are given below:"
   ]
  },
  {
   "cell_type": "code",
   "execution_count": 46,
   "id": "900a21c7-c67c-40a2-a69a-af9c08ae6196",
   "metadata": {},
   "outputs": [],
   "source": [
    "d = {1: \"ram\"} # integers as key"
   ]
  },
  {
   "cell_type": "code",
   "execution_count": 47,
   "id": "ff6f7245-d212-4870-8ef9-f88d86603a00",
   "metadata": {},
   "outputs": [],
   "source": [
    "d = {1.2: \"shyam\"} # floating as a key"
   ]
  },
  {
   "cell_type": "code",
   "execution_count": 52,
   "id": "e39ee0f7-39ba-446e-8db8-e5a117226d7c",
   "metadata": {},
   "outputs": [
    {
     "ename": "SyntaxError",
     "evalue": "invalid syntax (3728489721.py, line 2)",
     "output_type": "error",
     "traceback": [
      "\u001b[0;36m  Cell \u001b[0;32mIn[52], line 2\u001b[0;36m\u001b[0m\n\u001b[0;31m    d = {@: \"r\"}\u001b[0m\n\u001b[0m         ^\u001b[0m\n\u001b[0;31mSyntaxError\u001b[0m\u001b[0;31m:\u001b[0m invalid syntax\n"
     ]
    }
   ],
   "source": [
    "# but any special characters are not execute as a key.\n",
    "d = {@: \"r\"}"
   ]
  },
  {
   "cell_type": "code",
   "execution_count": 53,
   "id": "4fd180a5-cec3-42d3-a2b4-fcf23e26f031",
   "metadata": {},
   "outputs": [
    {
     "ename": "TypeError",
     "evalue": "unhashable type: 'dict'",
     "output_type": "error",
     "traceback": [
      "\u001b[0;31m---------------------------------------------------------------------------\u001b[0m",
      "\u001b[0;31mTypeError\u001b[0m                                 Traceback (most recent call last)",
      "Cell \u001b[0;32mIn[53], line 1\u001b[0m\n\u001b[0;32m----> 1\u001b[0m d \u001b[38;5;241m=\u001b[39m {{\u001b[38;5;124m\"\u001b[39m\u001b[38;5;124mkey\u001b[39m\u001b[38;5;124m\"\u001b[39m:\u001b[38;5;124m\"\u001b[39m\u001b[38;5;124maman\u001b[39m\u001b[38;5;124m\"\u001b[39m}:\u001b[38;5;124m\"\u001b[39m\u001b[38;5;124m123\u001b[39m\u001b[38;5;124m\"\u001b[39m}\n",
      "\u001b[0;31mTypeError\u001b[0m: unhashable type: 'dict'"
     ]
    }
   ],
   "source": [
    "d = {{\"key\":\"aman\"}:\"123\"} # because dictionary inside dictionary are not as a key"
   ]
  },
  {
   "cell_type": "code",
   "execution_count": 54,
   "id": "51fcbf77-9b80-4e3c-977a-6f89f1ffc867",
   "metadata": {},
   "outputs": [
    {
     "ename": "TypeError",
     "evalue": "unhashable type: 'set'",
     "output_type": "error",
     "traceback": [
      "\u001b[0;31m---------------------------------------------------------------------------\u001b[0m",
      "\u001b[0;31mTypeError\u001b[0m                                 Traceback (most recent call last)",
      "Cell \u001b[0;32mIn[54], line 1\u001b[0m\n\u001b[0;32m----> 1\u001b[0m d \u001b[38;5;241m=\u001b[39m {{\u001b[38;5;241m1\u001b[39m,\u001b[38;5;241m2\u001b[39m,\u001b[38;5;241m3\u001b[39m}:\u001b[38;5;124m\"\u001b[39m\u001b[38;5;124mganga\u001b[39m\u001b[38;5;124m\"\u001b[39m}\n",
      "\u001b[0;31mTypeError\u001b[0m: unhashable type: 'set'"
     ]
    }
   ],
   "source": [
    "d = {{1,2,3}:\"ganga\"}# can not set as a key because set is mutable"
   ]
  },
  {
   "cell_type": "code",
   "execution_count": 55,
   "id": "3bdac892-a753-403f-8798-8c7f15113ca7",
   "metadata": {},
   "outputs": [],
   "source": [
    "d = {(1,2,3,4):\"jamuna\"} # tuple is executed as a key because it is immutable"
   ]
  },
  {
   "cell_type": "code",
   "execution_count": 56,
   "id": "8ee18450-b98d-4320-a38e-663af1d7c35e",
   "metadata": {
    "tags": []
   },
   "outputs": [
    {
     "data": {
      "text/plain": [
       "{(1, 2, 3, 4): 'jamuna'}"
      ]
     },
     "execution_count": 56,
     "metadata": {},
     "output_type": "execute_result"
    }
   ],
   "source": [
    "d"
   ]
  },
  {
   "cell_type": "code",
   "execution_count": null,
   "id": "6ca7420d-a3c3-4773-ba26-3ae965f2285a",
   "metadata": {},
   "outputs": [],
   "source": [
    "# so it is clear that only immutable data type is considered as keys only "
   ]
  },
  {
   "cell_type": "code",
   "execution_count": null,
   "id": "6821f33e-ca79-4183-8296-53ff2b034e85",
   "metadata": {},
   "outputs": [],
   "source": []
  }
 ],
 "metadata": {
  "kernelspec": {
   "display_name": "Python 3 (ipykernel)",
   "language": "python",
   "name": "python3"
  },
  "language_info": {
   "codemirror_mode": {
    "name": "ipython",
    "version": 3
   },
   "file_extension": ".py",
   "mimetype": "text/x-python",
   "name": "python",
   "nbconvert_exporter": "python",
   "pygments_lexer": "ipython3",
   "version": "3.10.8"
  }
 },
 "nbformat": 4,
 "nbformat_minor": 5
}
